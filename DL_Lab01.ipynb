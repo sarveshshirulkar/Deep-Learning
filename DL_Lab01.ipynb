{
  "nbformat": 4,
  "nbformat_minor": 0,
  "metadata": {
    "colab": {
      "provenance": []
    },
    "kernelspec": {
      "name": "python3",
      "display_name": "Python 3"
    },
    "language_info": {
      "name": "python"
    }
  },
  "cells": [
    {
      "cell_type": "markdown",
      "source": [
        "##Deep Learning\n",
        "## Lab - 01\n",
        "### Sarvesh Shirulkar\n",
        "### A1/15\n",
        "\n"
      ],
      "metadata": {
        "id": "96mQqxgQP66K"
      }
    },
    {
      "cell_type": "code",
      "source": [
        "from google.colab import drive\n",
        "drive.mount(\"/content/drive\")"
      ],
      "metadata": {
        "colab": {
          "base_uri": "https://localhost:8080/"
        },
        "id": "jfjIQVeiLoXf",
        "outputId": "82771790-dc36-49a5-af4f-60dbd81e096c"
      },
      "execution_count": 1,
      "outputs": [
        {
          "output_type": "stream",
          "name": "stdout",
          "text": [
            "Mounted at /content/drive\n"
          ]
        }
      ]
    },
    {
      "cell_type": "code",
      "source": [
        "import pandas as pd\n",
        "import numpy as np\n",
        "\n",
        "def divide_and_randomize_data(file_path, target_column=None):\n",
        "    # Get split ratios from the user\n",
        "    train_percentage = int(input(\"Enter the percentage for training data (e.g., 70 for 70%): \"))\n",
        "    val_percentage = int(input(\"Enter the percentage for validation data (e.g., 15 for 15%): \"))\n",
        "    test_percentage = int(input(\"Enter the percentage for testing data (e.g., 15 for 15%): \"))\n",
        "\n",
        "    # Validate that the ratios sum up to 100\n",
        "    if train_percentage + val_percentage + test_percentage != 100:\n",
        "        raise ValueError(\"Split percentages must sum up to 100. Please check your inputs.\")\n",
        "\n",
        "    # Load the dataset based on the file format\n",
        "    if file_path.endswith('.csv'):\n",
        "        data = pd.read_csv(file_path)\n",
        "    elif file_path.endswith(('.xls', '.xlsx')):\n",
        "        data = pd.read_excel(file_path)\n",
        "    elif file_path.endswith('.mat'):\n",
        "        from scipy.io import loadmat\n",
        "        mat_data = loadmat(file_path)\n",
        "        data = pd.DataFrame(mat_data['data'])\n",
        "    else:\n",
        "        raise ValueError(\"Unsupported file format. Please provide a .csv, .xls, .xlsx, or .mat file.\")\n",
        "\n",
        "    # If no target column is specified, use the first column as the target\n",
        "    if target_column is None:\n",
        "        target_column = data.columns[0]\n",
        "\n",
        "    # Randomize the data rows\n",
        "    randomized_data = data.sample(frac=1, random_state=42).reset_index(drop=True)\n",
        "\n",
        "    # Separate features (X) and target labels (y)\n",
        "    features = randomized_data.drop(columns=[target_column])\n",
        "    labels = randomized_data[target_column]\n",
        "\n",
        "    # Convert percentages to indices\n",
        "    total_samples = len(randomized_data)\n",
        "    train_limit = int((train_percentage / 100) * total_samples)\n",
        "    val_limit = train_limit + int((val_percentage / 100) * total_samples)\n",
        "\n",
        "    # Split data into training, validation, and testing subsets\n",
        "    X_train, y_train = features.iloc[:train_limit], labels.iloc[:train_limit]\n",
        "    X_val, y_val = features.iloc[train_limit:val_limit], labels.iloc[train_limit:val_limit]\n",
        "    X_test, y_test = features.iloc[val_limit:], labels.iloc[val_limit:]\n",
        "\n",
        "    # Return the split datasets\n",
        "    return (X_train, y_train), (X_val, y_val), (X_test, y_test)\n",
        "\n",
        "# Provide the file path\n",
        "file_path = '/content/drive/MyDrive/Deep Learning/Accidents_with_Label.csv'\n",
        "\n",
        "# Execute the function with the file\n",
        "(training_data, validation_data, testing_data) = divide_and_randomize_data(file_path)\n",
        "\n",
        "# Print the sizes of each subset\n",
        "print(\"Training Data Shape:\", training_data[0].shape, training_data[1].shape)\n",
        "print(\"Validation Data Shape:\", validation_data[0].shape, validation_data[1].shape)\n",
        "print(\"Testing Data Shape:\", testing_data[0].shape, testing_data[1].shape)"
      ],
      "metadata": {
        "colab": {
          "base_uri": "https://localhost:8080/"
        },
        "id": "GiEUm0-OOQm4",
        "outputId": "c178332a-76c5-4e7e-cf0e-b664256551ba"
      },
      "execution_count": 6,
      "outputs": [
        {
          "output_type": "stream",
          "name": "stdout",
          "text": [
            "Enter the percentage for training data (e.g., 70 for 70%): 70\n",
            "Enter the percentage for validation data (e.g., 15 for 15%): 15\n",
            "Enter the percentage for testing data (e.g., 15 for 15%): 15\n",
            "Training Data Shape: (35, 17) (35,)\n",
            "Validation Data Shape: (7, 17) (7,)\n",
            "Testing Data Shape: (9, 17) (9,)\n"
          ]
        }
      ]
    }
  ]
}